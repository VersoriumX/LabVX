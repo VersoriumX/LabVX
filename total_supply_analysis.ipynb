{
 "cells": [
  {
   "cell_type": "code",
   "execution_count": 6,
   "metadata": {},
   "outputs": [
    {
     "name": "stdout",
     "output_type": "stream",
     "text": [
      "Initial Deposit: x_needed=1, y_needed=0, lp_out=0\n",
      "For APY = 1.0%: time_stretch=110.93438508425959\n",
      "For APY = 1.0%: y_needed=0.5050364399293373\n",
      "Resulting APY= 0.9976419369696057%\n",
      "Deposit: x_needed=0.982634951484453, y_needed=1 for lp shares=1.9800551424366843\n",
      "x_reserves=1.4789014091322983, y_reserves=1.5050364399293374, total_supply=2.9800551424366843 estimate_total_supply=2.9765332533234066\n",
      "Deposit: x_needed=0.9826349514844529, y_needed=1 for lp shares=1.9800551424366841\n",
      "x_reserves=2.4615363606167513, y_reserves=2.5050364399293374, total_supply=4.960110284873369 estimate_total_supply=4.95424832676253\n",
      "Deposit: x_needed=0.982634951484453, y_needed=1 for lp shares=1.9800551424366843\n",
      "x_reserves=3.4441713121012043, y_reserves=3.5050364399293374, total_supply=6.940165427310053 estimate_total_supply=6.931963400201653\n"
     ]
    }
   ],
   "source": [
    "import numpy as np\n",
    "import math \n",
    "import pandas as pd\n",
    "from pandas.io.json import json_normalize\n",
    "import json\n",
    "import sys  \n",
    "sys.path.insert(0, './scripts')\n",
    "from PricingModels import *\n",
    "\n",
    "# initialize pool\n",
    "x_reserves = 0\n",
    "y_reserves = 0\n",
    "x_in = 1\n",
    "y_in = 0\n",
    "total_supply = 0\n",
    "(x_needed, y_needed, lp_out) = Element_Pricing_Model.calc_lp_out_given_tokens_in(x_in, y_in, x_reserves, y_reserves, total_supply)\n",
    "print(\"Initial Deposit: x_needed={:}, y_needed={:}, lp_out={:}\".format(x_needed, y_needed, total_supply) )\n",
    "\n",
    "# calculate what trade to make to set APY\n",
    "x_reserves += x_in\n",
    "y_reserves += y_in\n",
    "total_supply += lp_out\n",
    "APY = .01\n",
    "ts = Element_Pricing_Model.calc_time_stretch(APY*100)\n",
    "print(\"For APY = {:}%: time_stretch={:}\".format(APY*100,ts))\n",
    "days_until_maturity=180\n",
    "t=days_until_maturity/(365*ts)\n",
    "T=days_until_maturity/365\n",
    "y_needed = x_reserves * ((1-APY*T)**(1/-t)-1)/(1+(1-APY*T)**(1/-t))\n",
    "print(\"For APY = {:}%: y_needed={:}\".format(APY*100,y_needed) )\n",
    "\n",
    "(without_fee_or_slippage,with_fee,without_fee,fee) = Element_Pricing_Model.calc_out_given_in(y_needed,y_reserves+total_supply,x_reserves,\"base\",.1,t)\n",
    "x_reserves -= with_fee\n",
    "y_reserves += y_needed\n",
    "price = Element_Pricing_Model.calc_spot_price(x_reserves,y_reserves,total_supply,t)\n",
    "APY = Element_Pricing_Model.apy(price,days_until_maturity)\n",
    "print(\"Resulting APY= {:}%\".format(APY) )\n",
    "\n",
    "x_in = 1\n",
    "y_in = 1\n",
    "(x_needed, y_needed, lp_out) = Element_Pricing_Model.calc_lp_out_given_tokens_in(x_in, y_in, x_reserves, y_reserves, total_supply)\n",
    "x_in = x_needed\n",
    "y_in = y_needed\n",
    "(x_needed, y_needed, lp_out) = Element_Pricing_Model.calc_lp_out_given_tokens_in(x_in, y_in, x_reserves, y_reserves, total_supply)\n",
    "print(\"Deposit: x_needed={:}, y_needed={:} for lp shares={:}\".format(x_needed, y_needed, lp_out))\n",
    "x_reserves += x_in\n",
    "y_reserves += y_in\n",
    "total_supply+=lp_out\n",
    "print(\"x_reserves={:}, y_reserves={:}, total_supply={:} estimate_total_supply={:}\".format(x_reserves, y_reserves, total_supply, x_reserves+price*y_reserves) )\n",
    "\n",
    "x_in = 1\n",
    "y_in = 1\n",
    "(x_needed, y_needed, lp_out) = Element_Pricing_Model.calc_lp_out_given_tokens_in(x_in, y_in, x_reserves, y_reserves, total_supply)\n",
    "x_in = x_needed\n",
    "y_in = y_needed\n",
    "(x_needed, y_needed, lp_out) = Element_Pricing_Model.calc_lp_out_given_tokens_in(x_in, y_in, x_reserves, y_reserves, total_supply)\n",
    "print(\"Deposit: x_needed={:}, y_needed={:} for lp shares={:}\".format(x_needed, y_needed, lp_out))\n",
    "x_reserves += x_in\n",
    "y_reserves += y_in\n",
    "total_supply+=lp_out\n",
    "print(\"x_reserves={:}, y_reserves={:}, total_supply={:} estimate_total_supply={:}\".format(x_reserves, y_reserves, total_supply, x_reserves+price*y_reserves) )\n",
    "\n",
    "x_in = 1\n",
    "y_in = 1\n",
    "(x_needed, y_needed, lp_out) = Element_Pricing_Model.calc_lp_out_given_tokens_in(x_in, y_in, x_reserves, y_reserves, total_supply)\n",
    "x_in = x_needed\n",
    "y_in = y_needed\n",
    "(x_needed, y_needed, lp_out) = Element_Pricing_Model.calc_lp_out_given_tokens_in(x_in, y_in, x_reserves, y_reserves, total_supply)\n",
    "print(\"Deposit: x_needed={:}, y_needed={:} for lp shares={:}\".format(x_needed, y_needed, lp_out))\n",
    "x_reserves += x_in\n",
    "y_reserves += y_in\n",
    "total_supply+=lp_out\n",
    "print(\"x_reserves={:}, y_reserves={:}, total_supply={:} estimate_total_supply={:}\".format(x_reserves, y_reserves, total_supply, x_reserves+price*y_reserves) )\n"
   ]
  },
  {
   "cell_type": "code",
   "execution_count": null,
   "metadata": {},
   "outputs": [],
   "source": []
  },
  {
   "cell_type": "code",
   "execution_count": null,
   "metadata": {},
   "outputs": [],
   "source": []
  },
  {
   "cell_type": "code",
   "execution_count": null,
   "metadata": {},
   "outputs": [],
   "source": []
  },
  {
   "cell_type": "code",
   "execution_count": null,
   "metadata": {},
   "outputs": [],
   "source": []
  },
  {
   "cell_type": "code",
   "execution_count": null,
   "metadata": {},
   "outputs": [],
   "source": []
  },
  {
   "cell_type": "code",
   "execution_count": null,
   "metadata": {},
   "outputs": [],
   "source": []
  },
  {
   "cell_type": "code",
   "execution_count": null,
   "metadata": {},
   "outputs": [],
   "source": []
  },
  {
   "cell_type": "code",
   "execution_count": null,
   "metadata": {},
   "outputs": [],
   "source": []
  },
  {
   "cell_type": "code",
   "execution_count": null,
   "metadata": {},
   "outputs": [],
   "source": []
  },
  {
   "cell_type": "code",
   "execution_count": null,
   "metadata": {},
   "outputs": [],
   "source": []
  }
 ],
 "metadata": {
  "kernelspec": {
   "display_name": "Python 3",
   "language": "python",
   "name": "python3"
  },
  "language_info": {
   "codemirror_mode": {
    "name": "ipython",
    "version": 3
   },
   "file_extension": ".py",
   "mimetype": "text/x-python",
   "name": "python",
   "nbconvert_exporter": "python",
   "pygments_lexer": "ipython3",
   "version": "3.8.5"
  }
 },
 "nbformat": 4,
 "nbformat_minor": 2
}
